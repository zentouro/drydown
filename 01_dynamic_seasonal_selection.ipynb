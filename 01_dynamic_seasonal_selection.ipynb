{
 "cells": [
  {
   "cell_type": "markdown",
   "id": "49a659e0-2eff-4ce5-b5bc-3f699c4e2ca9",
   "metadata": {
    "execution": {
     "iopub.execute_input": "2025-01-21T16:39:06.729725Z",
     "iopub.status.busy": "2025-01-21T16:39:06.727766Z",
     "iopub.status.idle": "2025-01-21T16:39:06.749923Z",
     "shell.execute_reply": "2025-01-21T16:39:06.739256Z",
     "shell.execute_reply.started": "2025-01-21T16:39:06.729632Z"
    }
   },
   "source": [
    "# Dynamically select warm/growing season"
   ]
  },
  {
   "cell_type": "code",
   "execution_count": 1,
   "id": "7627b89b-1a86-4871-afac-adfa55eda569",
   "metadata": {
    "execution": {
     "iopub.execute_input": "2025-02-07T21:54:13.495429Z",
     "iopub.status.busy": "2025-02-07T21:54:13.495248Z",
     "iopub.status.idle": "2025-02-07T21:54:16.053306Z",
     "shell.execute_reply": "2025-02-07T21:54:16.052820Z",
     "shell.execute_reply.started": "2025-02-07T21:54:13.495409Z"
    }
   },
   "outputs": [],
   "source": [
    "import numpy as np\n",
    "import pandas as pd\n",
    "import xarray as xr\n",
    "import dask \n",
    "\n",
    "\n",
    "from dataclasses import dataclass, field\n",
    "\n",
    "import datetime\n",
    "\n",
    "from scipy.optimize import least_squares\n",
    "from scipy.ndimage import label\n",
    "\n",
    "from sklearn.metrics import r2_score\n",
    "\n",
    "import matplotlib as mpl\n",
    "import matplotlib.pyplot as plt\n",
    "import matplotlib.cm as cm\n",
    "import matplotlib.gridspec as gridspec\n",
    "import matplotlib.patches as mpatches\n",
    "import matplotlib.lines as mlines\n",
    "\n",
    "import cmocean\n",
    "\n",
    "\n",
    "import seaborn as sns\n",
    "\n",
    "import cartopy.crs as ccrs\n",
    "import cartopy.feature as cfeature\n",
    "\n",
    "# progress bars for loops\n",
    "from tqdm.notebook import tqdm  \n",
    "\n",
    "import traceback\n",
    "\n",
    "import time\n",
    "\n",
    "from os.path import exists\n",
    "\n"
   ]
  },
  {
   "cell_type": "code",
   "execution_count": 2,
   "id": "58e010cf-871d-45ed-a3f0-f0cc43638422",
   "metadata": {
    "execution": {
     "iopub.execute_input": "2025-02-07T21:54:16.055520Z",
     "iopub.status.busy": "2025-02-07T21:54:16.055201Z",
     "iopub.status.idle": "2025-02-07T21:54:16.058766Z",
     "shell.execute_reply": "2025-02-07T21:54:16.058307Z",
     "shell.execute_reply.started": "2025-02-07T21:54:16.055498Z"
    }
   },
   "outputs": [],
   "source": [
    "## import my utils\n",
    "from climate_utils import global_mean\n"
   ]
  },
  {
   "cell_type": "code",
   "execution_count": 3,
   "id": "b6aa22c6-faa8-44fe-bd1f-d9a0b3459a30",
   "metadata": {
    "execution": {
     "iopub.execute_input": "2025-02-07T21:54:16.059625Z",
     "iopub.status.busy": "2025-02-07T21:54:16.059415Z",
     "iopub.status.idle": "2025-02-07T21:54:16.062713Z",
     "shell.execute_reply": "2025-02-07T21:54:16.062158Z",
     "shell.execute_reply.started": "2025-02-07T21:54:16.059608Z"
    }
   },
   "outputs": [],
   "source": [
    "import warnings\n",
    "warnings.filterwarnings('ignore')"
   ]
  },
  {
   "cell_type": "markdown",
   "id": "04ddbe4c-1bf8-4221-8aee-a2e5c063a85f",
   "metadata": {
    "tags": []
   },
   "source": [
    "## Import Data & process data\n",
    "\n",
    "- selects region\n",
    "- selects variables\n",
    "- converts units"
   ]
  },
  {
   "cell_type": "code",
   "execution_count": 4,
   "id": "5673ba03-66b8-43d7-88aa-079f9c3bc5cc",
   "metadata": {
    "execution": {
     "iopub.execute_input": "2025-02-07T21:54:17.820076Z",
     "iopub.status.busy": "2025-02-07T21:54:17.818960Z",
     "iopub.status.idle": "2025-02-07T21:54:17.829673Z",
     "shell.execute_reply": "2025-02-07T21:54:17.828195Z",
     "shell.execute_reply.started": "2025-02-07T21:54:17.819996Z"
    }
   },
   "outputs": [],
   "source": [
    "dict_ds = {'MERRA2': {},\n",
    "        'NLDAS_NOAH': {}, \n",
    "        'NLDAS_MOS': {}\n",
    "       }"
   ]
  },
  {
   "cell_type": "code",
   "execution_count": 5,
   "id": "01d9769b-81b8-448f-b2bd-4a2d7d15852b",
   "metadata": {
    "execution": {
     "iopub.execute_input": "2025-02-07T21:54:20.928539Z",
     "iopub.status.busy": "2025-02-07T21:54:20.927984Z",
     "iopub.status.idle": "2025-02-07T21:54:20.942676Z",
     "shell.execute_reply": "2025-02-07T21:54:20.941520Z",
     "shell.execute_reply.started": "2025-02-07T21:54:20.928500Z"
    }
   },
   "outputs": [],
   "source": [
    "model_params = {'MERRA2': {'model_dir': 'MERRA/', \n",
    "                           'filename': 'MERRA2_100th_meridian_west_land_1980-2025.nc', \n",
    "                           'p_var': 'PRECTOTLAND', \n",
    "                           't_var': 'T2MMEAN',\n",
    "                           'sf_var': 'SFMC',\n",
    "                           'rz_var': 'RZMC',\n",
    "                           'snowfall_var': 'PRECSNOLAND', \n",
    "                           'snowdepth_var': 'SNODP'          \n",
    "                          },\n",
    "                'NLDAS_NOAH': {'model_dir': 'NLDAS/', \n",
    "                           'filename': 'NLDAS_NOAH_1979-2024.nc', \n",
    "                           'p_var': 'Rainf', \n",
    "                           't_var': 'Tair', \n",
    "                           'sf_var': 'SoilM_0_10cm',\n",
    "                           'rz_var': 'SoilM_0_100cm',\n",
    "                           'snowfall_var': 'Snowf', \n",
    "                           'snowdepth_var': 'SnowDepth'          \n",
    "                          }, \n",
    "                 'NLDAS_MOS': {'model_dir': 'NLDAS/', \n",
    "                           'filename': 'NLDAS_MOS_1979-2024.nc', \n",
    "                           'p_var': 'Rainf', \n",
    "                           't_var': 'Tair', \n",
    "                           'sf_var': 'SoilM_0_10cm',\n",
    "                           'rz_var': 'SoilM_0_100cm',\n",
    "                           'snowfall_var': 'Snowf', \n",
    "                           'snowdepth_var': 'SnowDepth'          \n",
    "                          }\n",
    "               }\n",
    "                 \n"
   ]
  },
  {
   "cell_type": "markdown",
   "id": "2f22bd40-1754-4f3a-b547-7030865728cd",
   "metadata": {},
   "source": [
    "## Select soil moisture variable"
   ]
  },
  {
   "cell_type": "code",
   "execution_count": 6,
   "id": "7d038c7b-3560-4588-9aeb-f5c448e5088b",
   "metadata": {
    "execution": {
     "iopub.execute_input": "2025-02-07T21:54:22.110525Z",
     "iopub.status.busy": "2025-02-07T21:54:22.109542Z",
     "iopub.status.idle": "2025-02-07T21:54:22.119525Z",
     "shell.execute_reply": "2025-02-07T21:54:22.117818Z",
     "shell.execute_reply.started": "2025-02-07T21:54:22.110448Z"
    }
   },
   "outputs": [],
   "source": [
    "for model in model_params.keys():\n",
    "    model_params[model]['s_var'] = model_params[model]['sf_var']\n",
    "    #model_params[model]['s_var'] = model_params[model]['rz_var']\n",
    "\n"
   ]
  },
  {
   "cell_type": "code",
   "execution_count": 8,
   "id": "927ed0cb-6d38-42f2-b6a8-3599a6846611",
   "metadata": {
    "execution": {
     "iopub.execute_input": "2025-02-07T21:54:33.764423Z",
     "iopub.status.busy": "2025-02-07T21:54:33.763360Z",
     "iopub.status.idle": "2025-02-07T21:55:14.113001Z",
     "shell.execute_reply": "2025-02-07T21:55:14.112446Z",
     "shell.execute_reply.started": "2025-02-07T21:54:33.764344Z"
    }
   },
   "outputs": [
    {
     "data": {
      "application/json": {
       "ascii": false,
       "bar_format": null,
       "colour": null,
       "elapsed": 0.009165048599243164,
       "initial": 0,
       "n": 0,
       "ncols": null,
       "nrows": 69,
       "postfix": null,
       "prefix": "",
       "rate": null,
       "total": 3,
       "unit": "it",
       "unit_divisor": 1000,
       "unit_scale": false
      },
      "application/vnd.jupyter.widget-view+json": {
       "model_id": "17106b6bd2f44ac3850d618466d0d721",
       "version_major": 2,
       "version_minor": 0
      },
      "text/plain": [
       "  0%|          | 0/3 [00:00<?, ?it/s]"
      ]
     },
     "metadata": {},
     "output_type": "display_data"
    },
    {
     "name": "stdout",
     "output_type": "stream",
     "text": [
      "MERRA2\n",
      "NLDAS_NOAH\n",
      "NLDAS_MOS\n"
     ]
    }
   ],
   "source": [
    "processed_data_dir = '/Users/miriam/Documents/02_academia/02_PhD/research/projects/drydown-model/'\n",
    "fig_save_dir = '/Users/miriam/Documents/02_academia/02_PhD/research/projects/drydown-model/figures/tidy/'\n",
    "nc_save_dir = '/Users/miriam/Documents/02_academia/02_PhD/research/projects/drydown-model/filtered_seasons/'\n",
    "\n",
    "for model in tqdm(dict_ds.keys()):\n",
    "    print(model)\n",
    "        \n",
    "    dict_ds[model] = xr.open_mfdataset(processed_data_dir + model_params[model]['model_dir'] + model_params[model]['filename'], \n",
    "                         parallel = True).load()\n"
   ]
  },
  {
   "cell_type": "code",
   "execution_count": 9,
   "id": "21bf1b6d-dfe2-4a66-838c-b0556b6d4ecf",
   "metadata": {
    "execution": {
     "iopub.execute_input": "2025-02-07T21:55:14.114688Z",
     "iopub.status.busy": "2025-02-07T21:55:14.114451Z",
     "iopub.status.idle": "2025-02-07T21:55:14.141283Z",
     "shell.execute_reply": "2025-02-07T21:55:14.140704Z",
     "shell.execute_reply.started": "2025-02-07T21:55:14.114669Z"
    }
   },
   "outputs": [
    {
     "data": {
      "application/json": {
       "ascii": false,
       "bar_format": null,
       "colour": null,
       "elapsed": 0.00487971305847168,
       "initial": 0,
       "n": 0,
       "ncols": null,
       "nrows": 69,
       "postfix": null,
       "prefix": "",
       "rate": null,
       "total": 3,
       "unit": "it",
       "unit_divisor": 1000,
       "unit_scale": false
      },
      "application/vnd.jupyter.widget-view+json": {
       "model_id": "2adec7bf704a4bc8bf18b7bac2640837",
       "version_major": 2,
       "version_minor": 0
      },
      "text/plain": [
       "  0%|          | 0/3 [00:00<?, ?it/s]"
      ]
     },
     "metadata": {},
     "output_type": "display_data"
    }
   ],
   "source": [
    "## for 100th meridien\n",
    "lats = [25, 50]\n",
    "lons = [-130, -100]\n",
    "\n",
    "dict_ds_region = {}\n",
    "\n",
    "for model in tqdm(dict_ds.keys()):\n",
    "\n",
    "    dict_ds_region[model] = dict_ds[model][[model_params[model]['sf_var'], \n",
    "                                            model_params[model]['rz_var'], \n",
    "                                            model_params[model]['t_var'], \n",
    "                                            model_params[model]['p_var'], \n",
    "                                            model_params[model]['snowfall_var'], \n",
    "                                            model_params[model]['snowdepth_var']]].sel(lon = slice(lons[0], lons[1]), \n",
    "                                                                                       lat = slice(lats[0],  lats[1])).sel(time = slice('1980', '2023'))"
   ]
  },
  {
   "cell_type": "code",
   "execution_count": 10,
   "id": "0cb500fe-d1f5-44a7-8d96-bfcf34e9d107",
   "metadata": {
    "execution": {
     "iopub.execute_input": "2025-02-07T21:55:14.142841Z",
     "iopub.status.busy": "2025-02-07T21:55:14.142573Z",
     "iopub.status.idle": "2025-02-07T21:55:14.156486Z",
     "shell.execute_reply": "2025-02-07T21:55:14.155638Z",
     "shell.execute_reply.started": "2025-02-07T21:55:14.142822Z"
    }
   },
   "outputs": [],
   "source": [
    "def units_convert(ds, var, printout = True):\n",
    "    ds = ds.copy()\n",
    "\n",
    "    ### we want precipitation units in mm day-1\n",
    "    if var in ('precipitation', 'pr', \n",
    "               'PRECTOTLAND', 'PRECSNOLAND', 'RUNOFF', 'QINFIL', 'EVLAND', \n",
    "               'Rainf', 'Snowf'):\n",
    "\n",
    "        if ds[var].attrs['units'] != 'mm day-1':\n",
    "            if printout == True:\n",
    "                print('converting ' + model + ' with ' + var + ' units ' + str(ds[var].attrs['units']) + ' to mm day-1')\n",
    "            \n",
    "            if ds[var].attrs['units'] == 'cm day-1':\n",
    "                ds[var] = ds[var] * 10 \n",
    "                ds[var].attrs['units'] = 'mm day-1'\n",
    "            \n",
    "            if ds[var].attrs['units'] == 'kg m-2 s-1':\n",
    "                ds[var] = ds[var] * 86400\n",
    "                ds[var].attrs['units'] = 'mm day-1'\n",
    "\n",
    "            if ds[var].attrs['units'] == 'kg m-2':\n",
    "                ## this is equivalent to mm, so just need to change attrs\n",
    "                ds[var].attrs['units'] = 'mm day-1'\n",
    "            \n",
    "    ### we want soil moisture units in kg m-2            \n",
    "    if var in ('SMsurf', 'SMroot', 'mrsos', 'mrsol', 'SFMC', 'RZMC', 'SoilM_0_10cm', 'SoilM_0_100cm'):\n",
    "        \n",
    "        if ds[var].attrs['units'] != 'kg m-2':\n",
    "            if printout == True:\n",
    "                print('converting ' + model + ' with ' + var + ' units ' + str(ds[var].attrs['units']) + ' to kg m-2')\n",
    "            \n",
    "            \n",
    "            if ds[var].attrs['units'] in ('m3.m-3', 'm-3 m-3'):\n",
    "                if (model == 'GLEAM') & (var == 'SMsurf'):\n",
    "                    ## GLEAM's surface soil moisture is 10cm or 100mm deep\n",
    "                    ## convert to mm using a 100 mm (0.1 m) soil depth\n",
    "                    depth = 100 #mm\n",
    "                    \n",
    "                if (model in ['MERRA2','MERRA2-precip_minus_snow', 'MERRA2-precip_minus_snow_runoff']) & (var == 'SFMC'):\n",
    "                    ## MERRA2's surface soil moisture is 5cm or 50mm deep\n",
    "                    ## convert to mm using a 50 mm (0.05 m) soil depth\n",
    "                    depth = 50 #mm\n",
    "                    \n",
    "                if (model in ['MERRA2', 'MERRA2-precip_minus_snow', 'MERRA2-precip_minus_snow_runoff']) & (var == 'RZMC'):\n",
    "                    ## MERRA2's rootzone soil moisture is 100cm or 1000mm deep\n",
    "                    ## convert to mm using a 1000 mm (1 m) soil depth\n",
    "                    depth = 1000 #mm\n",
    "                    \n",
    "                ### m3/m3 * depth\n",
    "                ds[var] = ds[var] * depth    \n",
    "                ds[var].attrs['units'] = 'kg m-2' \n",
    "                \n",
    "                ## additional printouts\n",
    "                #if printout == True:\n",
    "                #    print('converted ' + model + ' with ' + var + ' units ' + str(ds[var].attrs['units']) + 'to kg m-2')\n",
    "\n",
    "\n",
    "    ### we want temperature units in ºC\n",
    "    if var in ('TSURF', 'Tair', 'T2MMEAN'):\n",
    "        if ds[var].attrs['units'] != 'ºC':\n",
    "            print('converting ' + model + ' with ' + var + ' units ' + str(ds[var].attrs['units']) + ' to ºC')\n",
    "            if ds[var].attrs['units'] == 'K':\n",
    "                zeroCelsius = -272.15\n",
    "                ds[var] = ds[var] + zeroCelsius\n",
    "                ds[var].attrs['units'] = 'ºC'\n",
    "                \n",
    "    return ds"
   ]
  },
  {
   "cell_type": "code",
   "execution_count": 11,
   "id": "97c45fec-57f8-4741-9110-1b54f2123f2c",
   "metadata": {
    "execution": {
     "iopub.execute_input": "2025-02-07T21:55:14.159372Z",
     "iopub.status.busy": "2025-02-07T21:55:14.159062Z",
     "iopub.status.idle": "2025-02-07T21:55:19.677793Z",
     "shell.execute_reply": "2025-02-07T21:55:19.677280Z",
     "shell.execute_reply.started": "2025-02-07T21:55:14.159339Z"
    }
   },
   "outputs": [
    {
     "data": {
      "application/json": {
       "ascii": false,
       "bar_format": null,
       "colour": null,
       "elapsed": 0.0037088394165039062,
       "initial": 0,
       "n": 0,
       "ncols": null,
       "nrows": 69,
       "postfix": null,
       "prefix": "",
       "rate": null,
       "total": 3,
       "unit": "it",
       "unit_divisor": 1000,
       "unit_scale": false
      },
      "application/vnd.jupyter.widget-view+json": {
       "model_id": "9bf413a80ddf4fcb96a624862f2c69aa",
       "version_major": 2,
       "version_minor": 0
      },
      "text/plain": [
       "  0%|          | 0/3 [00:00<?, ?it/s]"
      ]
     },
     "metadata": {},
     "output_type": "display_data"
    },
    {
     "name": "stdout",
     "output_type": "stream",
     "text": [
      "converting MERRA2 with PRECTOTLAND units kg m-2 s-1 to mm day-1\n",
      "converting MERRA2 with SFMC units m-3 m-3 to kg m-2\n",
      "converting MERRA2 with RZMC units m-3 m-3 to kg m-2\n",
      "converting MERRA2 with PRECSNOLAND units kg m-2 s-1 to mm day-1\n",
      "converting MERRA2 with T2MMEAN units K to ºC\n",
      "converting NLDAS_NOAH with Rainf units kg m-2 to mm day-1\n",
      "converting NLDAS_NOAH with Snowf units kg m-2 to mm day-1\n",
      "converting NLDAS_NOAH with Tair units K to ºC\n",
      "converting NLDAS_MOS with Rainf units kg m-2 to mm day-1\n",
      "converting NLDAS_MOS with Snowf units kg m-2 to mm day-1\n",
      "converting NLDAS_MOS with Tair units K to ºC\n"
     ]
    }
   ],
   "source": [
    "### may need to adjust this when running on new models\n",
    "for model in tqdm(dict_ds_region.keys()):\n",
    "    ds_region = dict_ds_region[model]\n",
    "\n",
    "    ds_region = units_convert(ds_region, model_params[model]['p_var'], printout = True)\n",
    "    ds_region = units_convert(ds_region, model_params[model]['sf_var'], printout = True)\n",
    "    ds_region = units_convert(ds_region, model_params[model]['rz_var'], printout = True)\n",
    "    ds_region = units_convert(ds_region, model_params[model]['snowfall_var'], printout = True)\n",
    "    ds_region = units_convert(ds_region, model_params[model]['t_var'], printout = True)\n",
    "\n",
    "    dict_ds_region[model] = ds_region"
   ]
  },
  {
   "cell_type": "code",
   "execution_count": 12,
   "id": "116891b0-5b09-486b-9ede-409a8d2b0b7a",
   "metadata": {
    "execution": {
     "iopub.execute_input": "2025-02-07T21:55:19.678886Z",
     "iopub.status.busy": "2025-02-07T21:55:19.678678Z",
     "iopub.status.idle": "2025-02-07T21:55:19.909278Z",
     "shell.execute_reply": "2025-02-07T21:55:19.908797Z",
     "shell.execute_reply.started": "2025-02-07T21:55:19.678869Z"
    }
   },
   "outputs": [],
   "source": [
    "### Filter T2MMEAN properly \n",
    "dict_ds_region['MERRA2']['T2MMEAN'] = dict_ds_region['MERRA2'][model_params['MERRA2']['t_var']].where(~np.isnan(dict_ds_region['MERRA2'][model_params['MERRA2']['s_var']]))"
   ]
  },
  {
   "cell_type": "code",
   "execution_count": 13,
   "id": "283cceec-1ca9-4b8c-8883-ca41a04dedde",
   "metadata": {
    "execution": {
     "iopub.execute_input": "2025-02-07T21:55:19.910461Z",
     "iopub.status.busy": "2025-02-07T21:55:19.910238Z",
     "iopub.status.idle": "2025-02-07T21:55:20.259950Z",
     "shell.execute_reply": "2025-02-07T21:55:20.259452Z",
     "shell.execute_reply.started": "2025-02-07T21:55:19.910443Z"
    }
   },
   "outputs": [
    {
     "data": {
      "text/plain": [
       "<matplotlib.collections.QuadMesh at 0x18872c5e0>"
      ]
     },
     "execution_count": 13,
     "metadata": {},
     "output_type": "execute_result"
    },
    {
     "data": {
      "image/png": "[encoded data removed]",
      "text/plain": [
       "<Figure size 640x480 with 2 Axes>"
      ]
     },
     "metadata": {},
     "output_type": "display_data"
    }
   ],
   "source": [
    "model = 'MERRA2'\n",
    "dict_ds_region[model][model_params[model]['t_var']].mean(dim = 'time').plot()"
   ]
  },
  {
   "cell_type": "markdown",
   "id": "ef0a0632-7c7a-4470-b0e6-bebba04dd571",
   "metadata": {},
   "source": [
    "## Filtering by season"
   ]
  },
  {
   "cell_type": "code",
   "execution_count": 17,
   "id": "9a2655cc-c44a-4b25-942f-3edbb8aafbb5",
   "metadata": {
    "execution": {
     "iopub.execute_input": "2025-02-07T22:04:34.351584Z",
     "iopub.status.busy": "2025-02-07T22:04:34.350220Z",
     "iopub.status.idle": "2025-02-07T22:04:34.371873Z",
     "shell.execute_reply": "2025-02-07T22:04:34.371150Z",
     "shell.execute_reply.started": "2025-02-07T22:04:34.351506Z"
    }
   },
   "outputs": [],
   "source": [
    "def filter_longest_warm_season(temp, snowfall, snowdepth, var, time):\n",
    "    \"\"\"\n",
    "    Filters the longest warm season period for a single pixel across multiple years.\n",
    "    \"\"\"\n",
    "    # Convert time to NumPy datetime64 if not already\n",
    "    time = np.array(time, dtype=\"datetime64\")\n",
    "    years = np.unique(time.astype(\"datetime64[Y]\"))\n",
    "    result = []\n",
    "\n",
    "    for year in years:\n",
    "        # Extract data for the year\n",
    "        year_mask = (time >= year) & (time < year + np.timedelta64(1, \"Y\"))\n",
    "        temp_year = temp[year_mask]\n",
    "        snowfall_year = snowfall[year_mask]\n",
    "        snowdepth_year = snowdepth[year_mask]\n",
    "        var_year = var[year_mask]\n",
    "        time_year = time[year_mask]\n",
    "\n",
    "        # Create a warm season mask\n",
    "        # where temperature > 0, snowfall == 0, snowdepth <= 0.001 (this is because NLDAS NOAH has confusing snowdepth accumulation)\n",
    "        warm_season_mask = (temp_year > 0) & (snowfall_year == 0) & (snowdepth_year <= 0.001)\n",
    "        labels, num_labels = label(warm_season_mask)\n",
    "\n",
    "        if num_labels == 0:\n",
    "            # No valid periods in this year\n",
    "            result.append(np.full_like(var_year, np.nan))\n",
    "            continue\n",
    "\n",
    "        # Find the longest valid period\n",
    "        lengths = np.array([(labels == i).sum() for i in range(1, num_labels + 1)])\n",
    "        longest_label = np.argmax(lengths) + 1\n",
    "\n",
    "        # Select the longest period\n",
    "        longest_period_mask = labels == longest_label\n",
    "        result.append(np.where(longest_period_mask, var_year, np.nan))\n",
    "\n",
    "    return np.concatenate(result)\n",
    "\n",
    "def filter_warm_season(ds, model, model_params):\n",
    "    \"\"\"\n",
    "    Filters the dataset to retain only the longest warm season in each year.\n",
    "    Preserves units and other attributes for all variables.\n",
    "    \"\"\"\n",
    "    # Apply the filtering function\n",
    "    filtered = xr.apply_ufunc(\n",
    "        filter_longest_warm_season,\n",
    "        ds[model_params[model]['t_var']], ds[model_params[model]['snowfall_var']], ds[model_params[model]['snowdepth_var']], ds[model_params[model]['s_var']], ds['time'],\n",
    "        input_core_dims=[[\"time\"], [\"time\"], [\"time\"], [\"time\"], [\"time\"]],\n",
    "        output_core_dims=[[\"time\"]],\n",
    "        vectorize=True,\n",
    "        dask=\"parallelized\",  # Enables parallel computation with dask\n",
    "    )\n",
    "\n",
    "    # Create a copy of the dataset to preserve other variables and attributes\n",
    "    ds_filtered = ds.copy()\n",
    "\n",
    "    # Replace the s_var data in the filtered dataset with the filtered data\n",
    "    ds_filtered[model_params[model]['s_var']] = filtered\n",
    "\n",
    "    for var_name in ds.data_vars:\n",
    "        if var_name != model_params[model]['s_var']: \n",
    "            # Apply the same filter mask to other variables\n",
    "            ds_filtered[var_name] = ds[var_name].where(~ds_filtered[model_params[model]['s_var']].isnull(), drop=True)\n",
    "            # Preserve the attributes for all variables\n",
    "        ds_filtered[var_name].attrs = ds[var_name].attrs\n",
    "\n",
    "    return ds_filtered"
   ]
  },
  {
   "cell_type": "code",
   "execution_count": 19,
   "id": "f6809dc2-4727-418b-ab8a-15f426fa246c",
   "metadata": {
    "execution": {
     "iopub.execute_input": "2025-02-07T22:04:36.292417Z",
     "iopub.status.busy": "2025-02-07T22:04:36.291338Z",
     "iopub.status.idle": "2025-02-07T22:20:37.444237Z",
     "shell.execute_reply": "2025-02-07T22:20:37.443439Z",
     "shell.execute_reply.started": "2025-02-07T22:04:36.292336Z"
    }
   },
   "outputs": [
    {
     "data": {
      "application/json": {
       "ascii": false,
       "bar_format": null,
       "colour": null,
       "elapsed": 0.007544040679931641,
       "initial": 0,
       "n": 0,
       "ncols": null,
       "nrows": 69,
       "postfix": null,
       "prefix": "",
       "rate": null,
       "total": 3,
       "unit": "it",
       "unit_divisor": 1000,
       "unit_scale": false
      },
      "application/vnd.jupyter.widget-view+json": {
       "model_id": "920f83bec5f5407a9cf9e3fbb1935685",
       "version_major": 2,
       "version_minor": 0
      },
      "text/plain": [
       "  0%|          | 0/3 [00:00<?, ?it/s]"
      ]
     },
     "metadata": {},
     "output_type": "display_data"
    },
    {
     "name": "stdout",
     "output_type": "stream",
     "text": [
      "MERRA2 warm seasons file already exist, importing\n",
      "starting NLDAS_NOAH\n",
      "saving NLDAS_NOAH\n",
      "NLDAS_NOAH saved to /Users/miriam/Documents/02_academia/02_PhD/research/projects/drydown-model/filtered_seasons/NLDAS_NOAH_warm-season_1980-2023.nc\n",
      "starting NLDAS_MOS\n",
      "saving NLDAS_MOS\n",
      "NLDAS_MOS saved to /Users/miriam/Documents/02_academia/02_PhD/research/projects/drydown-model/filtered_seasons/NLDAS_MOS_warm-season_1980-2023.nc\n"
     ]
    }
   ],
   "source": [
    "dict_ds_warm_season = {}\n",
    "\n",
    "for model in tqdm(dict_ds_region.keys()):\n",
    "    \n",
    "    file_save_loc = f\"{nc_save_dir}{model}_warm-season_{dict_ds_region[model].time.dt.year.min().values}-{dict_ds_region[model].time.dt.year.max().values}.nc\"\n",
    "\n",
    "    ## calculate seasons /or/ open file if it exists\n",
    "    if exists(file_save_loc):\n",
    "        print(f'{model} warm seasons file already exist, importing')\n",
    "        dict_ds_warm_season[model] = xr.open_dataset(file_save_loc)\n",
    "\n",
    "    else:\n",
    "        print(f'starting {model}')\n",
    "        ds = dict_ds_region[model]\n",
    "        dict_ds_warm_season[model] = filter_warm_season(ds, model, model_params)\n",
    "\n",
    "        print(f'saving {model}')\n",
    "        dict_ds_warm_season[model].to_netcdf(file_save_loc)\n",
    "        print(f\"{model} saved to {file_save_loc}\")\n",
    "    "
   ]
  },
  {
   "cell_type": "markdown",
   "id": "d0e26229-cbdd-43da-a560-25c66b749028",
   "metadata": {},
   "source": [
    "### Rough plot of the length of the warm season"
   ]
  },
  {
   "cell_type": "code",
   "execution_count": 25,
   "id": "1fa61334-8b66-40ef-8eca-b0daa1647508",
   "metadata": {
    "execution": {
     "iopub.execute_input": "2025-02-07T22:25:51.987767Z",
     "iopub.status.busy": "2025-02-07T22:25:51.987216Z",
     "iopub.status.idle": "2025-02-07T22:26:01.306806Z",
     "shell.execute_reply": "2025-02-07T22:26:01.306302Z",
     "shell.execute_reply.started": "2025-02-07T22:25:51.987728Z"
    }
   },
   "outputs": [
    {
     "data": {
      "text/plain": [
       "<matplotlib.collections.QuadMesh at 0x18bd31370>"
      ]
     },
     "execution_count": 25,
     "metadata": {},
     "output_type": "execute_result"
    },
    {
     "data": {
      "image/png": "[encoded data removed]",
      "text/plain": [
       "<Figure size 640x480 with 2 Axes>"
      ]
     },
     "metadata": {},
     "output_type": "display_data"
    }
   ],
   "source": [
    "levels = [30, 60, 90, 120, 150, 180, 210,  240, 270, 300, 330, 360]\n",
    "dict_ds_warm_season[model].groupby('time.year').count().mean(dim = 'year')[model_params[model]['t_var']].plot(vmin = 30, \n",
    "                                                                                                              vmax = 360, \n",
    "                                                                                                              levels = 12, \n",
    "                                                                                                              cmap = 'Oranges',\n",
    "                                                                                                              cbar_kwargs={'label': 'Length of Warm Season', \n",
    "                                                                                                                           'ticks': levels})"
   ]
  }
 ],
 "metadata": {
  "kernelspec": {
   "display_name": "Python 3 (ipykernel)",
   "language": "python",
   "name": "python3"
  },
  "language_info": {
   "codemirror_mode": {
    "name": "ipython",
    "version": 3
   },
   "file_extension": ".py",
   "mimetype": "text/x-python",
   "name": "python",
   "nbconvert_exporter": "python",
   "pygments_lexer": "ipython3",
   "version": "3.9.10"
  }
 },
 "nbformat": 4,
 "nbformat_minor": 5
}
